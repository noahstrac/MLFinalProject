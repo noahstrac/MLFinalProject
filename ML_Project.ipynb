{
 "cells": [
  {
   "cell_type": "code",
   "execution_count": 3,
   "metadata": {},
   "outputs": [],
   "source": [
    "#imports\n",
    "%matplotlib inline\n",
    "import matplotlib.pyplot as plt\n",
    "import numpy as np\n",
    "import pandas as pd\n",
    "from sklearn.datasets import load_breast_cancer\n",
    "from sklearn import svm\n",
    "from sklearn.svm import SVC\n",
    "from sklearn.model_selection import cross_val_predict\n",
    "from sklearn import metrics\n",
    "from sklearn import preprocessing\n",
    "from sklearn.model_selection import RandomizedSearchCV\n",
    "from sklearn.tree import DecisionTreeClassifier\n",
    "from Noah_Stracqualursi_Assignment4 import layerSizes, initialize_parameters, sigmoid, forward_prop, compute_cost, backward_propagation, update_parameters, model as models, predict\n",
    "import sys\n",
    "\n"
   ]
  },
  {
   "cell_type": "code",
   "execution_count": 4,
   "metadata": {},
   "outputs": [
    {
     "name": "stdout",
     "output_type": "stream",
     "text": [
      "[53] 53\n",
      "got it for year 2011\n",
      "[56] 116\n",
      "[117] 128\n",
      "[128] 53\n",
      "[65] 65\n",
      "got it for year 2015\n",
      "[65] 271\n"
     ]
    }
   ],
   "source": [
    "# predict winners for last 6 years from 2015\n",
    "df = pd.read_csv('https://query.data.world/s/tsraemwghzslzokuqybdnphmt3g7u3')\n",
    "dataset = df.values\n",
    "dataset = np.delete(dataset,2,1)\n",
    "dataset = np.delete(dataset,0,1)\n",
    "le = preprocessing.LabelEncoder() \n",
    "le = le.fit(dataset[:,0])\n",
    "dataset[:,0] = le.transform(dataset[:,0])\n",
    "le = le.fit(dataset[:,5])\n",
    "dataset[:,2] = le.transform(dataset[:,2])\n",
    "dataset[:,5] = le.transform(dataset[:,5])\n",
    "X = dataset[:,0:6]\n",
    "y = dataset[:,2]\n",
    "y = y.astype('int')\n",
    "C = 1.0  # SVM regularization parameter\n",
    "model = (svm.SVC(kernel='poly', degree=7, gamma='auto', C=C))\n",
    "'''\n",
    "C_range = np.logspace(-2, 10, 13)\n",
    "gamma_range = np.logspace(-9, 3, 13)\n",
    "degree_range = [5,6,7,8,9,10]\n",
    "\n",
    "param_dist = {\"gamma\": gamma_range,\n",
    "              \"C\": C_range,\n",
    "              'degree': degree_range,\n",
    "              'kernel': ['poly'],\n",
    "              'class_weight':['balanced', None]}\n",
    "n_iter_search = 10\n",
    "random_search = RandomizedSearchCV(model, param_distributions=param_dist,\n",
    "                                   n_iter=n_iter_search, cv=5)\n",
    "\n",
    "random_search.fit(X, y)\n",
    "print(random_search.best_score_)\n",
    "\n",
    "print(random_search.best_estimator_.gamma)\n",
    "\n",
    "print(random_search.best_estimator_.C)\n",
    "'''\n",
    "for i in range(6):\n",
    "    model.fit(X[1648 + i*67:1648 + i*67 + 66,:],y[1648 + i*67:1648 + i*67 + 66])\n",
    "    correct = 0\n",
    "    prediction = model.predict(X[1648 + i*67 - 1,:].reshape(1, -1))\n",
    "    print(prediction, y[1648 + i*67 + 66] )\n",
    "    if prediction == y[1648 + i*67 + 66]:\n",
    "        print(\"got it for year\", 2011 + i)\n",
    "    "
   ]
  },
  {
   "cell_type": "code",
   "execution_count": 5,
   "metadata": {},
   "outputs": [
    {
     "name": "stdout",
     "output_type": "stream",
     "text": [
      "71.73694779116467 percent of games played since 1985 have been in favor of the higher seed team.\n",
      "2.829268292682927 percent of games played since 1985 have been same seeds.\n",
      "25.433783916152407 percent of games since 1985 have been in favor of the lower seed team.\n"
     ]
    },
    {
     "data": {
      "text/plain": [
       "<matplotlib.collections.PathCollection at 0x1a1843fcf8>"
      ]
     },
     "execution_count": 5,
     "metadata": {},
     "output_type": "execute_result"
    },
    {
     "data": {
      "image/png": "[encoded data removed]",
      "text/plain": [
       "<Figure size 432x288 with 1 Axes>"
      ]
     },
     "metadata": {
      "needs_background": "light"
     },
     "output_type": "display_data"
    }
   ],
   "source": [
    "# seed statistics\n",
    "dataset = df.values\n",
    "le = preprocessing.LabelEncoder()\n",
    "le = le.fit(dataset[:,7])\n",
    "dataset[:,4] = le.transform(dataset[:,4])\n",
    "dataset[:,7] = le.transform(dataset[:,7])\n",
    "X = list()\n",
    "y = list()\n",
    "i = 0\n",
    "X = np.zeros((2049,5))\n",
    "y = np.zeros((2049,1), dtype='uint8')\n",
    "favor = 0\n",
    "count = 0\n",
    "even = 0\n",
    "for i in range(2050):\n",
    "    if dataset[i][3] > dataset[i][6]:\n",
    "        X[count] = [dataset[i][3], dataset[i][6], (dataset[i][3] - dataset[i][6]) / 16, dataset[i][4], dataset[i][7]]\n",
    "        y[count] = 0\n",
    "        count += 1\n",
    "    elif dataset[i][3] < dataset[i][6]:\n",
    "        X[count] = [dataset[i][3], dataset[i][6], (dataset[i][6] - dataset[i][3]) / 16, dataset[i][4], dataset[i][7]]\n",
    "        y[count] = 1\n",
    "        count += 1\n",
    "        favor += 1\n",
    "    else:\n",
    "        even += 1\n",
    "    \n",
    "X = X[:-57].T\n",
    "y = y[:-57].T\n",
    "\n",
    "print(100 * (favor/count), \"percent of games played since 1985 have been in favor of the higher seed team.\")\n",
    "print(100 * (even/(count+even)), \"percent of games played since 1985 have been same seeds.\")\n",
    "print(100*(1 - ((favor/count) + (even/(count+even)))), \"percent of games since 1985 have been in favor of the lower seed team.\")\n",
    "plt.scatter(X[0], X[2], c=y.ravel(), s=10, cmap=plt.cm.Spectral)"
   ]
  },
  {
   "cell_type": "code",
   "execution_count": 6,
   "metadata": {},
   "outputs": [
    {
     "name": "stderr",
     "output_type": "stream",
     "text": [
      "//anaconda3/lib/python3.7/site-packages/sklearn/utils/validation.py:724: DataConversionWarning: A column-vector y was passed when a 1d array was expected. Please change the shape of y to (n_samples, ), for example using ravel().\n",
      "  y = column_or_1d(y, warn=True)\n",
      "//anaconda3/lib/python3.7/site-packages/sklearn/utils/validation.py:724: DataConversionWarning: A column-vector y was passed when a 1d array was expected. Please change the shape of y to (n_samples, ), for example using ravel().\n",
      "  y = column_or_1d(y, warn=True)\n",
      "//anaconda3/lib/python3.7/site-packages/sklearn/utils/validation.py:724: DataConversionWarning: A column-vector y was passed when a 1d array was expected. Please change the shape of y to (n_samples, ), for example using ravel().\n",
      "  y = column_or_1d(y, warn=True)\n",
      "//anaconda3/lib/python3.7/site-packages/sklearn/utils/validation.py:724: DataConversionWarning: A column-vector y was passed when a 1d array was expected. Please change the shape of y to (n_samples, ), for example using ravel().\n",
      "  y = column_or_1d(y, warn=True)\n",
      "//anaconda3/lib/python3.7/site-packages/sklearn/utils/validation.py:724: DataConversionWarning: A column-vector y was passed when a 1d array was expected. Please change the shape of y to (n_samples, ), for example using ravel().\n",
      "  y = column_or_1d(y, warn=True)\n",
      "//anaconda3/lib/python3.7/site-packages/sklearn/utils/validation.py:724: DataConversionWarning: A column-vector y was passed when a 1d array was expected. Please change the shape of y to (n_samples, ), for example using ravel().\n",
      "  y = column_or_1d(y, warn=True)\n"
     ]
    },
    {
     "data": {
      "text/plain": [
       "0.7269076305220884"
      ]
     },
     "execution_count": 6,
     "metadata": {},
     "output_type": "execute_result"
    }
   ],
   "source": [
    "# logistic regression model\n",
    "from sklearn.model_selection import cross_val_predict\n",
    "from sklearn.linear_model import LogisticRegressionCV\n",
    "from sklearn.model_selection import train_test_split\n",
    "from sklearn.metrics import accuracy_score\n",
    "\n",
    "X_train, X_test, y_train, y_test = train_test_split(X[2], y.ravel())\n",
    "y_train = y_train.reshape(-1, 1)\n",
    "X_train = X_train.reshape(-1, 1)\n",
    "y_test = y_test.reshape(-1, 1)\n",
    "X_test = X_test.reshape(-1, 1)\n",
    "modelLR = LogisticRegressionCV(cv=5, random_state=0).fit(X_train, y_train)\n",
    "y_pred = cross_val_predict(modelLR, X_test, y_test, cv=5)\n",
    "accuracy_score(y_test,y_pred)"
   ]
  },
  {
   "cell_type": "code",
   "execution_count": 7,
   "metadata": {},
   "outputs": [
    {
     "name": "stderr",
     "output_type": "stream",
     "text": [
      "//anaconda3/lib/python3.7/site-packages/sklearn/utils/validation.py:724: DataConversionWarning: A column-vector y was passed when a 1d array was expected. Please change the shape of y to (n_samples, ), for example using ravel().\n",
      "  y = column_or_1d(y, warn=True)\n"
     ]
    },
    {
     "data": {
      "image/png": "[encoded data removed]",
      "text/plain": [
       "<Figure size 432x288 with 1 Axes>"
      ]
     },
     "metadata": {
      "needs_background": "light"
     },
     "output_type": "display_data"
    }
   ],
   "source": [
    "# log decision boundary\n",
    "def plot_decision_boundary(model, X, y):\n",
    "    x_min, x_max = X[:,0].min() - 1, X[:,0].max() + 1\n",
    "    y_min, y_max = X[:,2].min() - 1, X[:,2].max() + 1\n",
    "    h = 0.01\n",
    "    xx, yy = np.meshgrid(np.arange(x_min, x_max, h), np.arange(y_min, y_max, h))\n",
    "    Z = model.predict(np.c_[xx.ravel(), yy.ravel()])\n",
    "    Z = Z.reshape(xx.shape)\n",
    "    plt.contourf(xx, yy, Z, cmap=plt.cm.Spectral)\n",
    "    plt.ylabel('x2')\n",
    "    plt.xlabel('x1')\n",
    "    plt.scatter(X[:,0], X[:,2], c=y.ravel(), s=10)\n",
    "    \n",
    "\n",
    "model = LogisticRegressionCV(cv=5)\n",
    "model.fit(X[1:3].T,y.T)\n",
    "plot_decision_boundary(model,X[0:3].T,y.T)"
   ]
  },
  {
   "cell_type": "code",
   "execution_count": 8,
   "metadata": {},
   "outputs": [],
   "source": [
    "# neural network decision boundry plotter\n",
    "def plot_decision_boundary2(model, X, y):\n",
    "    x_min, x_max = X[:,0].min() - 1, X[:,0].max() + 1\n",
    "    y_min, y_max = X[:,2].min() - 1, X[:,2].max() + 1\n",
    "    h = 0.01\n",
    "    xx, yy = np.meshgrid(np.arange(x_min, x_max, h), np.arange(y_min, y_max, h))\n",
    "    Z = model(np.c_[xx.ravel(), yy.ravel()].T)\n",
    "    Z = Z.reshape(xx.shape)\n",
    "    plt.contourf(xx, yy, Z, cmap=plt.cm.Spectral)\n",
    "    plt.ylabel('x2')\n",
    "    plt.xlabel('x1')\n",
    "    plt.scatter(X[:,0], X[:,2], c=y.ravel())"
   ]
  },
  {
   "cell_type": "code",
   "execution_count": 9,
   "metadata": {},
   "outputs": [],
   "source": [
    "# train model\n",
    "parameters = models(X[1:3], y, 16, num_epochs=42000, print_cost=False)"
   ]
  },
  {
   "cell_type": "code",
   "execution_count": 10,
   "metadata": {},
   "outputs": [
    {
     "data": {
      "image/png": "[encoded data removed]",
      "text/plain": [
       "<Figure size 432x288 with 1 Axes>"
      ]
     },
     "metadata": {
      "needs_background": "light"
     },
     "output_type": "display_data"
    }
   ],
   "source": [
    "# plot the decision boundary\n",
    "plot_decision_boundary2(lambda N: predict(parameters, N), X.T, y.ravel())"
   ]
  },
  {
   "cell_type": "code",
   "execution_count": 11,
   "metadata": {},
   "outputs": [
    {
     "name": "stdout",
     "output_type": "stream",
     "text": [
      "Accuracy: 77%\n"
     ]
    }
   ],
   "source": [
    "# accuracy of neural network\n",
    "predictions = predict(parameters, X[1:3])\n",
    "correct = 0\n",
    "total = 0\n",
    "for i in predictions[0]:\n",
    "    total += 1\n",
    "    if i:\n",
    "        correct += 1\n",
    "print ('Accuracy: %d' % float((correct/total)*100) + '%')"
   ]
  },
  {
   "cell_type": "code",
   "execution_count": 12,
   "metadata": {},
   "outputs": [
    {
     "data": {
      "text/plain": [
       "MLPClassifier(activation='relu', alpha=1e-05, batch_size='auto', beta_1=0.9,\n",
       "              beta_2=0.999, early_stopping=False, epsilon=1e-08,\n",
       "              hidden_layer_sizes=(15,), learning_rate='constant',\n",
       "              learning_rate_init=0.001, max_iter=200, momentum=0.9,\n",
       "              n_iter_no_change=10, nesterovs_momentum=True, power_t=0.5,\n",
       "              random_state=1, shuffle=True, solver='lbfgs', tol=0.0001,\n",
       "              validation_fraction=0.1, verbose=False, warm_start=False)"
      ]
     },
     "execution_count": 12,
     "metadata": {},
     "output_type": "execute_result"
    }
   ],
   "source": [
    "# MPL model 1\n",
    "from sklearn.neural_network import MLPClassifier\n",
    "clf = MLPClassifier(solver='lbfgs', alpha=1e-5, hidden_layer_sizes=(15,), random_state=1)\n",
    "\n",
    "from sklearn.preprocessing import StandardScaler\n",
    "new_X = np.delete(X.T,0,1)\n",
    "scaled_X = StandardScaler().fit_transform(new_X[398:])\n",
    "clf.fit(scaled_X, y.ravel()[398:])"
   ]
  },
  {
   "cell_type": "code",
   "execution_count": 13,
   "metadata": {},
   "outputs": [],
   "source": [
    "# generate predictions at an 20%/80% test/train rate\n",
    "scaled_X_test = StandardScaler().fit_transform(new_X[:399])\n",
    "predictions = clf.predict(scaled_X_test)"
   ]
  },
  {
   "cell_type": "code",
   "execution_count": 14,
   "metadata": {},
   "outputs": [
    {
     "name": "stdout",
     "output_type": "stream",
     "text": [
      "Accuracy: 90%\n"
     ]
    }
   ],
   "source": [
    "# See accuracy in predictions\n",
    "correct = 0\n",
    "total = 0\n",
    "for prediction in predictions:\n",
    "    if prediction == y.ravel()[total]:\n",
    "        correct += 1\n",
    "    total += 1\n",
    "print ('Accuracy: %d' % float((correct/total)*100) + '%')"
   ]
  },
  {
   "cell_type": "code",
   "execution_count": 15,
   "metadata": {},
   "outputs": [
    {
     "data": {
      "text/plain": [
       "array([1], dtype=uint8)"
      ]
     },
     "execution_count": 15,
     "metadata": {},
     "output_type": "execute_result"
    }
   ],
   "source": [
    "# testing prediction at low level\n",
    "test = np.zeros((1,4))\n",
    "test[0] = [1.600e+01, 9.375e-01, 1.300e+02, 1.070e+02]\n",
    "clf.predict(StandardScaler().fit_transform(test))"
   ]
  },
  {
   "cell_type": "code",
   "execution_count": 16,
   "metadata": {},
   "outputs": [
    {
     "data": {
      "text/plain": [
       "MLPClassifier(activation='relu', alpha=1e-05, batch_size='auto', beta_1=0.9,\n",
       "              beta_2=0.999, early_stopping=False, epsilon=1e-08,\n",
       "              hidden_layer_sizes=(15,), learning_rate='constant',\n",
       "              learning_rate_init=0.001, max_iter=200, momentum=0.9,\n",
       "              n_iter_no_change=10, nesterovs_momentum=True, power_t=0.5,\n",
       "              random_state=1, shuffle=True, solver='lbfgs', tol=0.0001,\n",
       "              validation_fraction=0.1, verbose=False, warm_start=False)"
      ]
     },
     "execution_count": 16,
     "metadata": {},
     "output_type": "execute_result"
    }
   ],
   "source": [
    "# MLP 2 using all data\n",
    "clf2 = MLPClassifier(solver='lbfgs', alpha=1e-5, hidden_layer_sizes=(15,), random_state=1)\n",
    "new_X = np.delete(X.T,0,1)\n",
    "scaled_X = StandardScaler().fit_transform(new_X)\n",
    "clf2.fit(scaled_X, y.ravel())"
   ]
  },
  {
   "cell_type": "code",
   "execution_count": 17,
   "metadata": {},
   "outputs": [],
   "source": [
    "# getting 2019 data\n",
    "f= open(\"mockSeasonRound64.csv\",\"r\")\n",
    "test = []\n",
    "count = 0\n",
    "for line in f:\n",
    "    if \"St. Mary\" in line:\n",
    "        test.append(['Villanova', 0.3125, 11, \"St. Mary's, California\"])\n",
    "    else:\n",
    "        test.append(line.split(\",\")[1:5])\n",
    "    count += 1\n",
    "\n",
    "f.close()\n",
    "test_pd = pd.DataFrame(test)\n",
    "test_pd[0] = le.transform(test_pd[0])\n",
    "test_pd[3] = le.transform(test_pd[3])"
   ]
  },
  {
   "cell_type": "code",
   "execution_count": 18,
   "metadata": {},
   "outputs": [
    {
     "name": "stdout",
     "output_type": "stream",
     "text": [
      "62.5 % correct picks in the round of 64.\n"
     ]
    }
   ],
   "source": [
    "# predict round of 64 for 2019 using model from 1985-2015\n",
    "results = clf2.predict(StandardScaler().fit_transform(test_pd))\n",
    "count = 0\n",
    "correct = 0\n",
    "for result in results:\n",
    "    if result == 0 and int(test[count][2]) > 8:\n",
    "        correct += 1\n",
    "    elif result == 1 and int(test[count][2]) <= 8:\n",
    "        correct += 1\n",
    "    count += 1\n",
    "\n",
    "print(correct/count*100, \"% correct picks in the round of 64.\")"
   ]
  },
  {
   "cell_type": "code",
   "execution_count": 19,
   "metadata": {},
   "outputs": [
    {
     "name": "stdout",
     "output_type": "stream",
     "text": [
      "41.14583333333333 % correct picks on average in 2019\n"
     ]
    }
   ],
   "source": [
    "# https://time.com/5566756/march-madness-brackets-random/\n",
    "print(79/192*100, \"% correct picks on average in 2019\")"
   ]
  },
  {
   "cell_type": "code",
   "execution_count": 20,
   "metadata": {},
   "outputs": [
    {
     "name": "stdout",
     "output_type": "stream",
     "text": [
      "21.35416666666667 % better picking rate when using the model.\n"
     ]
    }
   ],
   "source": [
    "print((correct/count*100) - (79/192*100), \"% better picking rate when using the model.\")"
   ]
  }
 ],
 "metadata": {
  "kernelspec": {
   "display_name": "Python 3",
   "language": "python",
   "name": "python3"
  },
  "language_info": {
   "codemirror_mode": {
    "name": "ipython",
    "version": 3
   },
   "file_extension": ".py",
   "mimetype": "text/x-python",
   "name": "python",
   "nbconvert_exporter": "python",
   "pygments_lexer": "ipython3",
   "version": "3.7.3"
  }
 },
 "nbformat": 4,
 "nbformat_minor": 2
}
